{
  "cells": [
    {
      "cell_type": "code",
      "execution_count": null,
      "metadata": {
        "colab": {
          "base_uri": "https://localhost:8080/"
        },
        "id": "tkqD_NnfzqXV",
        "outputId": "e437b5d7-3237-4840-edc9-bafd32697adf"
      },
      "outputs": [],
      "source": [
        "import json\n",
        "import pandas as pd\n",
        "from tqdm import tqdm\n",
        "from tabulate import tabulate\n",
        "import random\n",
        "random.seed(42)"
      ]
    },
    {
      "cell_type": "code",
      "execution_count": 41,
      "metadata": {
        "id": "C-JE0P26NKJX"
      },
      "outputs": [],
      "source": [
        "def bootstrap_confidence_interval(data, confidence=0.95, num_bootstrap=1000):\n",
        "    n = len(data)\n",
        "    bootstrap_samples_em = dict()\n",
        "    bootstrap_samples_f1 = dict()\n",
        "    for case_id in range(1,7):\n",
        "      bootstrap_samples_em[case_id] = []\n",
        "      bootstrap_samples_f1[case_id] = []\n",
        "    for _ in range(num_bootstrap):\n",
        "        bootstrap_sample = random.choices(data, k=n)\n",
        "        for case_id in range(1,7):\n",
        "          bootstrap_sample_em = sum([int(entry[f\"case_{case_id}_em\"]) for entry in bootstrap_sample])/n\n",
        "          bootstrap_sample_f1 = sum([entry[f\"case_{case_id}_f1\"] for entry in bootstrap_sample])/n\n",
        "          bootstrap_samples_em[case_id].append(bootstrap_sample_em)\n",
        "          bootstrap_samples_f1[case_id].append(bootstrap_sample_f1)\n",
        "    res = dict()\n",
        "    for case_id in range(1,7):\n",
        "      bootstrap_samples_em[case_id] = sorted(bootstrap_samples_em[case_id])\n",
        "      bootstrap_samples_f1[case_id] = sorted(bootstrap_samples_f1[case_id])\n",
        "      lower_em = bootstrap_samples_em[case_id][int(num_bootstrap * (1 - confidence)/2)]\n",
        "      upper_em = bootstrap_samples_em[case_id][int(num_bootstrap * (1-(1 - confidence) / 2))]\n",
        "      lower_f1 = bootstrap_samples_f1[case_id][int(num_bootstrap * (1 - confidence)/2)]\n",
        "      upper_f1 = bootstrap_samples_f1[case_id][int(num_bootstrap * (1-(1 - confidence) / 2))]\n",
        "      res[f\"case_{case_id}_lower_em\"] = lower_em * 100\n",
        "      res[f\"case_{case_id}_upper_em\"] = upper_em * 100\n",
        "      res[f\"case_{case_id}_lower_f1\"] = lower_f1 * 100\n",
        "      res[f\"case_{case_id}_upper_f1\"] = upper_f1 * 100\n",
        "    return res\n",
        "\n",
        "def bootstrap_confidence_interval_baseline(data, confidence=0.95, num_bootstrap=1000):\n",
        "    n = len(data)\n",
        "    bootstrap_samples_em = dict()\n",
        "    bootstrap_samples_f1 = dict()\n",
        "    for case_id in range(1,3):\n",
        "      bootstrap_samples_em[case_id] = []\n",
        "      bootstrap_samples_f1[case_id] = []\n",
        "    for _ in range(num_bootstrap):\n",
        "        bootstrap_sample = random.choices(data, k=n)\n",
        "        for case_id in range(1,3):\n",
        "          bootstrap_sample_em = sum([int(entry[f\"case_{case_id}_em\"]) for entry in bootstrap_sample])/n\n",
        "          bootstrap_sample_f1 = sum([entry[f\"case_{case_id}_f1\"] for entry in bootstrap_sample])/n\n",
        "          bootstrap_samples_em[case_id].append(bootstrap_sample_em)\n",
        "          bootstrap_samples_f1[case_id].append(bootstrap_sample_f1)\n",
        "    res = dict()\n",
        "    for case_id in range(1,3):\n",
        "      bootstrap_samples_em[case_id] = sorted(bootstrap_samples_em[case_id])\n",
        "      bootstrap_samples_f1[case_id] = sorted(bootstrap_samples_f1[case_id])\n",
        "      lower_em = bootstrap_samples_em[case_id][int(num_bootstrap * (1 - confidence)/2)]\n",
        "      upper_em = bootstrap_samples_em[case_id][int(num_bootstrap * (1-(1 - confidence) / 2))]\n",
        "      lower_f1 = bootstrap_samples_f1[case_id][int(num_bootstrap * (1 - confidence)/2)]\n",
        "      upper_f1 = bootstrap_samples_f1[case_id][int(num_bootstrap * (1-(1 - confidence) / 2))]\n",
        "      res[f\"case_{case_id}_lower_em\"] = lower_em * 100\n",
        "      res[f\"case_{case_id}_upper_em\"] = upper_em * 100\n",
        "      res[f\"case_{case_id}_lower_f1\"] = lower_f1 * 100\n",
        "      res[f\"case_{case_id}_upper_f1\"] = upper_f1 * 100\n",
        "    return res"
      ]
    },
    {
      "cell_type": "code",
      "execution_count": null,
      "metadata": {
        "colab": {
          "base_uri": "https://localhost:8080/"
        },
        "id": "BX97LlSY1FhE",
        "outputId": "b4ffbd12-a627-4838-9a24-227fecfbf2aa"
      },
      "outputs": [],
      "source": [
        "results = dict()\n",
        "for model in tqdm([\"llama-8b\", \"mistral-7b\", \"gemma-7b\", \"llama-70b\", \"gpt-4-turbo-direct\"]):\n",
        "  for strategy in tqdm([\"zeroshot\", \"2-shot\", \"3-shot\", \"zeroshot-cot\", \"2-shot-cot\", \"3-shot-cot\"]):\n",
        "    result = dict()\n",
        "    with open(f'results/morehopqa_final_{model}_{strategy}.json', 'r') as f:\n",
        "      entries = json.load(f)\n",
        "    for case_number in range(1,7):\n",
        "      result[f\"case_{case_number}_em\"] = 0\n",
        "      result[f\"case_{case_number}_f1\"] = 0\n",
        "    for entry in entries.values():\n",
        "      for case_number in range(1,7):\n",
        "        result[f\"case_{case_number}_em\"] += 1 if entry[f\"case_{case_number}_em\"] else 0\n",
        "        result[f\"case_{case_number}_f1\"] += entry[f\"case_{case_number}_f1\"]\n",
        "    for case_number in range(1,7):\n",
        "      result[f\"case_{case_number}_em\"] /= len(entries)\n",
        "      result[f\"case_{case_number}_f1\"] /= len(entries)\n",
        "      result[f\"case_{case_number}_em\"] *= 100\n",
        "      result[f\"case_{case_number}_f1\"] *= 100\n",
        "    bootstrapped = bootstrap_confidence_interval(list(entries.values()))\n",
        "    for case_number in range(1,7):\n",
        "      result[f\"case_{case_number}_em_pm\"] = max(abs(result[f\"case_{case_number}_em\"] - bootstrapped[f\"case_{case_number}_lower_em\"]), abs(bootstrapped[f\"case_{case_number}_upper_em\"] - result[f\"case_{case_number}_em\"]))\n",
        "      result[f\"case_{case_number}_f1_pm\"] = max(abs(result[f\"case_{case_number}_f1\"] - bootstrapped[f\"case_{case_number}_lower_f1\"]), abs(bootstrapped[f\"case_{case_number}_upper_f1\"] - result[f\"case_{case_number}_f1\"]))\n",
        "    results[f\"{model}_{strategy}\"] = result\n",
        "\n",
        "model = \"baseline\"\n",
        "strategy = \"zeroshot-cot\"\n",
        "result = dict()\n",
        "with open(f'results/morehopqa_final_{model}_{strategy}.json', 'r') as f:\n",
        "  entries = json.load(f)\n",
        "for case_number in range(1,3):\n",
        "  result[f\"case_{case_number}_em\"] = 0\n",
        "  result[f\"case_{case_number}_f1\"] = 0\n",
        "for entry in entries.values():\n",
        "  for case_number in range(1,3):\n",
        "    result[f\"case_{case_number}_em\"] += 1 if entry[f\"case_{case_number}_em\"] else 0\n",
        "    result[f\"case_{case_number}_f1\"] += entry[f\"case_{case_number}_f1\"]\n",
        "for case_number in range(1,3):\n",
        "  result[f\"case_{case_number}_em\"] /= len(entries)\n",
        "  result[f\"case_{case_number}_f1\"] /= len(entries)\n",
        "  result[f\"case_{case_number}_em\"] *= 100\n",
        "  result[f\"case_{case_number}_f1\"] *= 100\n",
        "bootstrapped = bootstrap_confidence_interval(list(entries.values()))\n",
        "for case_number in range(1,7):\n",
        "  result[f\"case_{case_number}_em_pm\"] = max(abs(result[f\"case_{case_number}_em\"] - bootstrapped[f\"case_{case_number}_lower_em\"]), abs(bootstrapped[f\"case_{case_number}_upper_em\"] - result[f\"case_{case_number}_em\"]))\n",
        "  result[f\"case_{case_number}_f1_pm\"] = max(abs(result[f\"case_{case_number}_f1\"] - bootstrapped[f\"case_{case_number}_lower_f1\"]), abs(bootstrapped[f\"case_{case_number}_upper_f1\"] - result[f\"case_{case_number}_f1\"]))\n",
        "results[f\"{model}_{strategy}\"] = result"
      ]
    },
    {
      "cell_type": "code",
      "execution_count": null,
      "metadata": {
        "colab": {
          "base_uri": "https://localhost:8080/"
        },
        "id": "yGVqbuIJ3ZMS",
        "outputId": "b137de89-aa97-45c0-f614-fb2de5998d12"
      },
      "outputs": [],
      "source": [
        "rows = []\n",
        "\n",
        "# Iterate over each model and its detailed scores\n",
        "for model, scores in results.items():\n",
        "    # Initialize a dictionary for the row\n",
        "    row = {'Model': model}\n",
        "    # Extract each score and organize by 'case_x' and 'case_x_f1'\n",
        "    for key, value in scores.items():\n",
        "        if '_pm' in key:\n",
        "            continue  # Skip processing plus-minus keys directly here\n",
        "        elif '_f1' in key:\n",
        "            case_name = key.replace('_f1', '')\n",
        "            metric = 'f1'\n",
        "        else:\n",
        "            case_name = key.replace('_em', '')\n",
        "            metric = 'em'\n",
        "\n",
        "        # Initialize the dictionary for this case if it's the first metric encountered\n",
        "        if case_name not in row:\n",
        "            row[case_name] = {}\n",
        "\n",
        "        # Update the dictionary with the score or the formatted string if plus-minus value exists\n",
        "        pm_key = f\"{key}_pm\"\n",
        "        if pm_key in scores:\n",
        "            formatted_value = f\"{value:.2f}\" + \"$_{\\\\pm\" +  f\"{scores[pm_key]:.2f}\" + \"}$\"\n",
        "            row[case_name][metric] = formatted_value\n",
        "        else:\n",
        "            row[case_name][metric] = f\"{value:.2f}\"\n",
        "    rows.append(row)\n",
        "\n",
        "# Create a DataFrame from the rows list\n",
        "df = pd.DataFrame(rows)\n",
        "df.set_index('Model', inplace=True)\n",
        "\n",
        "# Expand each dictionary in the DataFrame into its own column\n",
        "for column in df.columns:\n",
        "    df_expanded = df[column].apply(pd.Series)\n",
        "    df_expanded.columns = pd.MultiIndex.from_product([[column], df_expanded.columns])\n",
        "    df.drop(column, axis=1, inplace=True)\n",
        "    df = pd.concat([df, df_expanded], axis=1)\n",
        "\n",
        "print(df)"
      ]
    },
    {
      "cell_type": "code",
      "execution_count": null,
      "metadata": {
        "colab": {
          "base_uri": "https://localhost:8080/"
        },
        "id": "6eg3Q54x5cnU",
        "outputId": "37d1003d-501c-4f32-e2db-75df33d11bba"
      },
      "outputs": [],
      "source": [
        "print(tabulate(df, headers='keys', tablefmt='grid'))"
      ]
    },
    {
      "cell_type": "code",
      "execution_count": 45,
      "metadata": {
        "id": "tQPrWvqk5oA8"
      },
      "outputs": [],
      "source": [
        "df.to_excel('results.xlsx')"
      ]
    }
  ],
  "metadata": {
    "colab": {
      "provenance": []
    },
    "kernelspec": {
      "display_name": "Python 3",
      "name": "python3"
    },
    "language_info": {
      "name": "python"
    }
  },
  "nbformat": 4,
  "nbformat_minor": 0
}
